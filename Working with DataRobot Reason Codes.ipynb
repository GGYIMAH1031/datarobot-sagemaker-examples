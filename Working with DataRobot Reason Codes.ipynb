{
 "cells": [
  {
   "cell_type": "markdown",
   "metadata": {},
   "source": [
    "# Working with DataRobot Reason Codes\n",
    "\n",
    "---\n",
    "\n",
    "Computing reason codes is a resource-intensive task, but you can help reduce the runtime for computing them by setting prediction value thresholds. You can learn more more details about reason codes searching the online documentation available in the DataRobot web interface (it may be referred to as _Prediction Explanations_ there).\n",
    "\n",
    "### When are they useful?\n",
    "A common question when evaluating data is “why is a certain data-point considered high-risk (or low-risk) for a certain event”?\n",
    "\n",
    "A sample case for reason codes:\n",
    "\n",
    ">Clark is a business analyst at a large manufacturing firm. She does not have a lot of data science expertise, but has been using DataRobot with great success to predict likely product failures at her manufacturing plant. Her manager is now asking for recommendations for reducing the defect rate, based on these predictions. Clark would like DataRobot to produce reason codes for the expected product failures so that she can identify the key drivers of product failures based on a higher-level aggregation of reasons. Her business team can then use this report to address the causes of failure.\n",
    "\n",
    "Other common use cases and possible reasons include:\n",
    "\n",
    " * What are indicators that a transaction could be at high risk for fraud? Possible reasons include transactions out of a cardholder's home area, transactions out of a “normal” timing range, and transactions that are too large or small.\n",
    " * What are some reasons for setting a higher auto insurance price? The applicant is single, male, age under 30 years, and has received tickets. A married homeowner may receive a lower rate.\n",
    " \n",
    "---\n",
    "\n",
    "## Setup\n",
    "<div class=\"alert alert-box alert-info\">\n",
    "<b>Important</b>: this workbook requires that you already have completed the <b>Basic Introduction to DataRobot via API</b> notebook in this series.\n",
    "</div>\n",
    "\n",
    "The [intro notebook](Basic Introduction to DataRobot via API.ipynb) should have saved some of the results from your prior work; we will attempt to load those values in now:"
   ]
  },
  {
   "cell_type": "code",
   "execution_count": 1,
   "metadata": {},
   "outputs": [],
   "source": [
    "import json\n",
    "\n",
    "with open('intro-notebook-output.json') as fp:\n",
    "    params = json.load(fp)\n",
    "\n",
    "# Validate\n",
    "assert params.get('project-id')\n",
    "assert params.get('best-model-id')\n",
    "assert params.get('predict-dataset-id')"
   ]
  },
  {
   "cell_type": "markdown",
   "metadata": {},
   "source": [
    "### Connecting to DataRobot\n",
    "\n",
    "To access the DataRobot modeling engine, it is necessary to establish an authenticated connection. The necessary information is an **endpoint** - the URL address of the specific DataRobot server being used - and a **token**, a previously validated access token.\n",
    "\n",
    "#### Endpoint"
   ]
  },
  {
   "cell_type": "code",
   "execution_count": 2,
   "metadata": {},
   "outputs": [],
   "source": [
    "endpoint = 'https://app.datarobot.com/api/v2'"
   ]
  },
  {
   "cell_type": "markdown",
   "metadata": {},
   "source": [
    "#### Token"
   ]
  },
  {
   "cell_type": "code",
   "execution_count": 3,
   "metadata": {},
   "outputs": [],
   "source": [
    "token = 'YOUR_TOKEN_HERE'\n",
    "\n",
    "assert token != 'YOUR_TOKEN_HERE'"
   ]
  },
  {
   "cell_type": "markdown",
   "metadata": {},
   "source": [
    "#### Setting the configuration in code\n",
    "The next cell will configure the datarobot package to use the provided endpoint and token. This only needs to be done once per session."
   ]
  },
  {
   "cell_type": "code",
   "execution_count": 4,
   "metadata": {},
   "outputs": [
    {
     "data": {
      "text/plain": [
       "<datarobot.rest.RESTClientObject at 0x7f6d35783390>"
      ]
     },
     "execution_count": 4,
     "metadata": {},
     "output_type": "execute_result"
    }
   ],
   "source": [
    "import datarobot as dr \n",
    "dr.Client(endpoint=endpoint, token=token)"
   ]
  },
  {
   "cell_type": "markdown",
   "metadata": {},
   "source": [
    "The connection to DataRobot should now be ready."
   ]
  },
  {
   "cell_type": "markdown",
   "metadata": {},
   "source": [
    "---\n",
    "## Getting your project\n",
    "\n",
    "Load back in the Project and Model objects by using the `ID`s from the other notebook:"
   ]
  },
  {
   "cell_type": "code",
   "execution_count": 5,
   "metadata": {},
   "outputs": [
    {
     "data": {
      "text/plain": [
       "Project(Airline Delay)"
      ]
     },
     "execution_count": 5,
     "metadata": {},
     "output_type": "execute_result"
    }
   ],
   "source": [
    "project = dr.Project.get(params['project-id'])\n",
    "project"
   ]
  },
  {
   "cell_type": "code",
   "execution_count": 6,
   "metadata": {},
   "outputs": [
    {
     "data": {
      "text/plain": [
       "Model('ENET Blender')"
      ]
     },
     "execution_count": 6,
     "metadata": {},
     "output_type": "execute_result"
    }
   ],
   "source": [
    "model = dr.Model.get(project.id, params['best-model-id'])\n",
    "model"
   ]
  },
  {
   "cell_type": "markdown",
   "metadata": {},
   "source": [
    "## Compute Predictions\n",
    "Another prerequisite to reason codes is the need to have an uploaded dataset which has predictions computed for it. However, the intro notebook should have already done this for us so we will just re-use those predictions:"
   ]
  },
  {
   "cell_type": "markdown",
   "metadata": {},
   "source": [
    "In the _intro notebook_ we already uploaded a sample prediction dataset so we will just re-use those results here:"
   ]
  },
  {
   "cell_type": "code",
   "execution_count": 7,
   "metadata": {},
   "outputs": [
    {
     "name": "stdout",
     "output_type": "stream",
     "text": [
      "CPU times: user 1.19 s, sys: 44 ms, total: 1.23 s\n",
      "Wall time: 18.9 s\n"
     ]
    }
   ],
   "source": [
    "%%time\n",
    "dataset = dr.PredictionDataset.get(project.id, params['predict-dataset-id'])\n",
    "predict_job = model.request_predictions(dataset.id)\n",
    "predictions = predict_job.get_result_when_complete(4*60)"
   ]
  },
  {
   "cell_type": "markdown",
   "metadata": {},
   "source": [
    "Let's have a look at our results. Since this is a binary classification problem, as the `positive_probability` approaches zero this row is a stronger candidate for the negative class (_the flight will leave on-time_), while as it approaches one, the outcome is more likely to be of the positive class (_the flight will be delayed_). We will plot the positive probability below to get a better understanding of the distribution of the prediction results."
   ]
  },
  {
   "cell_type": "code",
   "execution_count": 8,
   "metadata": {},
   "outputs": [],
   "source": [
    "%matplotlib inline\n",
    "import seaborn as sns\n",
    "import matplotlib.pyplot as plt\n",
    "import matplotlib"
   ]
  },
  {
   "cell_type": "code",
   "execution_count": 9,
   "metadata": {},
   "outputs": [],
   "source": [
    "matplotlib.rcParams['figure.figsize'] = (15, 10)  # make charts bigger"
   ]
  },
  {
   "cell_type": "code",
   "execution_count": 10,
   "metadata": {},
   "outputs": [
    {
     "data": {
      "text/plain": [
       "Text(0.5,1,'Prediction Distribution')"
      ]
     },
     "execution_count": 10,
     "metadata": {},
     "output_type": "execute_result"
    },
    {
     "data": {
      "image/png": "[encoded data removed]",
      "text/plain": [
       "<matplotlib.figure.Figure at 0x7f6d091e8208>"
      ]
     },
     "metadata": {},
     "output_type": "display_data"
    }
   ],
   "source": [
    "sns.set(color_codes=True)\n",
    "sns.kdeplot(predictions.positive_probability, shade=True, cut=0, label=\"Positive Probability\")\n",
    "plt.xlim((0,1))\n",
    "plt.ylim((0,None))\n",
    "plt.xlabel('Probability of Event')\n",
    "plt.ylabel('Probability Density')\n",
    "plt.title(\"Prediction Distribution\")"
   ]
  },
  {
   "cell_type": "markdown",
   "metadata": {
    "collapsed": true
   },
   "source": [
    "## Compute Reason Codes\n",
    "We are almost ready to compute reason codes. Reason codes require two, one-time (per model) initialization steps."
   ]
  },
  {
   "cell_type": "markdown",
   "metadata": {},
   "source": [
    "#### Prerequisite: Feature Impact\n",
    "A prerequisite to computing reason codes is that you need to compute the **feature impact** for your model (this only needs to be done once per model):"
   ]
  },
  {
   "cell_type": "code",
   "execution_count": 11,
   "metadata": {},
   "outputs": [
    {
     "name": "stdout",
     "output_type": "stream",
     "text": [
      "CPU times: user 28 ms, sys: 28 ms, total: 56 ms\n",
      "Wall time: 97.7 ms\n"
     ]
    }
   ],
   "source": [
    "%%time\n",
    "try:\n",
    "    impact_job = model.request_feature_impact()\n",
    "    impact_job.wait_for_completion(4*60)  # wait 4 minutes to compute\n",
    "except dr.errors.JobAlreadyRequested:\n",
    "    pass  # already computed"
   ]
  },
  {
   "cell_type": "markdown",
   "metadata": {},
   "source": [
    "#### Prerequisite: Reason Codes Initialization\n",
    "After Feature Impact has been computed, you also must create a _Reason Codes Initialization_ for your model:"
   ]
  },
  {
   "cell_type": "code",
   "execution_count": 12,
   "metadata": {},
   "outputs": [
    {
     "name": "stdout",
     "output_type": "stream",
     "text": [
      "CPU times: user 64 ms, sys: 0 ns, total: 64 ms\n",
      "Wall time: 144 ms\n"
     ]
    }
   ],
   "source": [
    "%%time\n",
    "try:\n",
    "    # Test to see if they are already computed\n",
    "    dr.ReasonCodesInitialization.get(project.id, model.id)\n",
    "except dr.errors.ClientError as e:\n",
    "    assert e.status_code == 404  # haven't been computed\n",
    "    init_job = dr.ReasonCodesInitialization.create(project.id, model.id)\n",
    "    init_job.wait_for_completion()"
   ]
  },
  {
   "cell_type": "markdown",
   "metadata": {},
   "source": [
    "### Computing the reason codes\n",
    "Now that we have computed the feature impact and initialized the reason codes, and also uploaded a dataset and computed predictions on it, we are ready to make a request to compute the reason codes for every row of the dataset. Computing reason codes supports a couple of parameters:\n",
    "\n",
    "* `max_codes` are the maximum number of reason codes to compute for each row.\n",
    "* `threshold_low` and `threshold_high` are thresholds for the value of the prediction of the row. Reason codes will be computed for a row if the row’s prediction value is higher than threshold_high or lower than threshold_low. If no thresholds are specified, reason codes will be computed for **all rows**.\n",
    "\n",
    "**Note:** for binary classification projects (like this one), the thresholds correspond to the `positive_probability` prediction value whereas for regression problems, it corresponds to the actual predicted value.\n",
    "\n",
    "Since we've already examined our prediction distribution from above let's use that to influence what we set for our thresholds. It looks like most flights depart on-time so let's just examine the reasons for flights that have an _above normal_ probability for being delayed. We will use a `threshold_high` of `0.456` which means all rows where the predicted `positive_probability` is **at least** `0.456` we will compute the reason codes for that row. For the simplicity of this tutorial, we will also limit DataRobot to only compute `4` codes for us."
   ]
  },
  {
   "cell_type": "code",
   "execution_count": 13,
   "metadata": {},
   "outputs": [
    {
     "name": "stdout",
     "output_type": "stream",
     "text": [
      "CPU times: user 7.21 s, sys: 52 ms, total: 7.26 s\n",
      "Wall time: 28.7 s\n"
     ]
    }
   ],
   "source": [
    "%%time\n",
    "number_of_reasons = 4\n",
    "rc_job = dr.ReasonCodes.create(project.id, model.id, dataset.id,\n",
    "                               max_codes=number_of_reasons, \n",
    "                               threshold_low=None,\n",
    "                               threshold_high=0.456)\n",
    "rc = rc_job.get_result_when_complete()\n",
    "all_rows = rc.get_all_as_dataframe()"
   ]
  },
  {
   "cell_type": "markdown",
   "metadata": {},
   "source": [
    "Let's cleanup the DataFrame we got back by trimming it down to just the interesting columns. Also, since most rows will have prediction values outside our thresholds, let's drop all the uninteresting rows (i.e. ones with `null` values)."
   ]
  },
  {
   "cell_type": "code",
   "execution_count": 14,
   "metadata": {},
   "outputs": [
    {
     "data": {
      "text/html": [
       "<div>\n",
       "<style scoped>\n",
       "    .dataframe tbody tr th:only-of-type {\n",
       "        vertical-align: middle;\n",
       "    }\n",
       "\n",
       "    .dataframe tbody tr th {\n",
       "        vertical-align: top;\n",
       "    }\n",
       "\n",
       "    .dataframe thead th {\n",
       "        text-align: right;\n",
       "    }\n",
       "</style>\n",
       "<table border=\"1\" class=\"dataframe\">\n",
       "  <thead>\n",
       "    <tr style=\"text-align: right;\">\n",
       "      <th></th>\n",
       "      <th>prediction</th>\n",
       "      <th>positive_probability</th>\n",
       "      <th>reason_0_feature</th>\n",
       "      <th>reason_0_feature_value</th>\n",
       "      <th>reason_0_qualitative_strength</th>\n",
       "      <th>reason_0_strength</th>\n",
       "      <th>reason_1_feature</th>\n",
       "      <th>reason_1_feature_value</th>\n",
       "      <th>reason_1_qualitative_strength</th>\n",
       "      <th>reason_1_strength</th>\n",
       "      <th>reason_2_feature</th>\n",
       "      <th>reason_2_feature_value</th>\n",
       "      <th>reason_2_qualitative_strength</th>\n",
       "      <th>reason_2_strength</th>\n",
       "      <th>reason_3_feature</th>\n",
       "      <th>reason_3_feature_value</th>\n",
       "      <th>reason_3_qualitative_strength</th>\n",
       "      <th>reason_3_strength</th>\n",
       "    </tr>\n",
       "  </thead>\n",
       "  <tbody>\n",
       "    <tr>\n",
       "      <th>593</th>\n",
       "      <td>1.0</td>\n",
       "      <td>0.505323</td>\n",
       "      <td>daily_rainfall</td>\n",
       "      <td>1.350000e+00</td>\n",
       "      <td>+++</td>\n",
       "      <td>1.074490</td>\n",
       "      <td>Scheduled Departure Time</td>\n",
       "      <td>-2208920400</td>\n",
       "      <td>+++</td>\n",
       "      <td>0.989334</td>\n",
       "      <td>day_of_week</td>\n",
       "      <td>Thurs</td>\n",
       "      <td>++</td>\n",
       "      <td>0.663748</td>\n",
       "      <td>Flight Number</td>\n",
       "      <td>561</td>\n",
       "      <td>--</td>\n",
       "      <td>-0.487189</td>\n",
       "    </tr>\n",
       "    <tr>\n",
       "      <th>599</th>\n",
       "      <td>1.0</td>\n",
       "      <td>0.551285</td>\n",
       "      <td>daily_rainfall</td>\n",
       "      <td>1.350000e+00</td>\n",
       "      <td>+++</td>\n",
       "      <td>1.166670</td>\n",
       "      <td>Scheduled Departure Time</td>\n",
       "      <td>-2208918600</td>\n",
       "      <td>+++</td>\n",
       "      <td>1.102931</td>\n",
       "      <td>did_rain</td>\n",
       "      <td>True</td>\n",
       "      <td>++</td>\n",
       "      <td>0.498812</td>\n",
       "      <td>day_of_week</td>\n",
       "      <td>Thurs</td>\n",
       "      <td>++</td>\n",
       "      <td>0.413684</td>\n",
       "    </tr>\n",
       "    <tr>\n",
       "      <th>612</th>\n",
       "      <td>1.0</td>\n",
       "      <td>0.569199</td>\n",
       "      <td>Scheduled Departure Time</td>\n",
       "      <td>-2.208915e+09</td>\n",
       "      <td>+++</td>\n",
       "      <td>1.331459</td>\n",
       "      <td>daily_rainfall</td>\n",
       "      <td>1.35</td>\n",
       "      <td>+++</td>\n",
       "      <td>1.259771</td>\n",
       "      <td>day_of_week</td>\n",
       "      <td>Thurs</td>\n",
       "      <td>++</td>\n",
       "      <td>0.536583</td>\n",
       "      <td>Scheduled Departure Time (Hour of Day)</td>\n",
       "      <td>20</td>\n",
       "      <td>++</td>\n",
       "      <td>0.328074</td>\n",
       "    </tr>\n",
       "    <tr>\n",
       "      <th>893</th>\n",
       "      <td>1.0</td>\n",
       "      <td>0.582619</td>\n",
       "      <td>daily_rainfall</td>\n",
       "      <td>2.500000e-01</td>\n",
       "      <td>+++</td>\n",
       "      <td>1.917284</td>\n",
       "      <td>Scheduled Departure Time</td>\n",
       "      <td>-2208925800</td>\n",
       "      <td>+++</td>\n",
       "      <td>1.146913</td>\n",
       "      <td>Flight Number</td>\n",
       "      <td>728</td>\n",
       "      <td>++</td>\n",
       "      <td>0.378521</td>\n",
       "      <td>did_rain</td>\n",
       "      <td>True</td>\n",
       "      <td>++</td>\n",
       "      <td>0.367195</td>\n",
       "    </tr>\n",
       "    <tr>\n",
       "      <th>894</th>\n",
       "      <td>1.0</td>\n",
       "      <td>0.637904</td>\n",
       "      <td>daily_rainfall</td>\n",
       "      <td>2.500000e-01</td>\n",
       "      <td>+++</td>\n",
       "      <td>1.960371</td>\n",
       "      <td>Scheduled Departure Time</td>\n",
       "      <td>-2208918600</td>\n",
       "      <td>+++</td>\n",
       "      <td>1.402661</td>\n",
       "      <td>did_rain</td>\n",
       "      <td>True</td>\n",
       "      <td>++</td>\n",
       "      <td>0.478608</td>\n",
       "      <td>Flight Number</td>\n",
       "      <td>738</td>\n",
       "      <td>++</td>\n",
       "      <td>0.303017</td>\n",
       "    </tr>\n",
       "    <tr>\n",
       "      <th>...</th>\n",
       "      <td>...</td>\n",
       "      <td>...</td>\n",
       "      <td>...</td>\n",
       "      <td>...</td>\n",
       "      <td>...</td>\n",
       "      <td>...</td>\n",
       "      <td>...</td>\n",
       "      <td>...</td>\n",
       "      <td>...</td>\n",
       "      <td>...</td>\n",
       "      <td>...</td>\n",
       "      <td>...</td>\n",
       "      <td>...</td>\n",
       "      <td>...</td>\n",
       "      <td>...</td>\n",
       "      <td>...</td>\n",
       "      <td>...</td>\n",
       "      <td>...</td>\n",
       "    </tr>\n",
       "    <tr>\n",
       "      <th>18218</th>\n",
       "      <td>1.0</td>\n",
       "      <td>0.548005</td>\n",
       "      <td>Scheduled Departure Time</td>\n",
       "      <td>-2.208915e+09</td>\n",
       "      <td>+++</td>\n",
       "      <td>1.166377</td>\n",
       "      <td>daily_rainfall</td>\n",
       "      <td>0.11</td>\n",
       "      <td>++</td>\n",
       "      <td>0.685493</td>\n",
       "      <td>month</td>\n",
       "      <td>7</td>\n",
       "      <td>++</td>\n",
       "      <td>0.495122</td>\n",
       "      <td>Scheduled Departure Time (Hour of Day)</td>\n",
       "      <td>20</td>\n",
       "      <td>++</td>\n",
       "      <td>0.407042</td>\n",
       "    </tr>\n",
       "    <tr>\n",
       "      <th>18222</th>\n",
       "      <td>1.0</td>\n",
       "      <td>0.501521</td>\n",
       "      <td>Scheduled Departure Time</td>\n",
       "      <td>-2.208927e+09</td>\n",
       "      <td>+++</td>\n",
       "      <td>1.087912</td>\n",
       "      <td>daily_rainfall</td>\n",
       "      <td>0.11</td>\n",
       "      <td>+++</td>\n",
       "      <td>0.851496</td>\n",
       "      <td>month</td>\n",
       "      <td>7</td>\n",
       "      <td>++</td>\n",
       "      <td>0.437626</td>\n",
       "      <td>Destination Airport</td>\n",
       "      <td>CLT</td>\n",
       "      <td>++</td>\n",
       "      <td>0.417019</td>\n",
       "    </tr>\n",
       "    <tr>\n",
       "      <th>18256</th>\n",
       "      <td>0.0</td>\n",
       "      <td>0.496702</td>\n",
       "      <td>daily_rainfall</td>\n",
       "      <td>1.100000e-01</td>\n",
       "      <td>+++</td>\n",
       "      <td>1.091645</td>\n",
       "      <td>Scheduled Departure Time</td>\n",
       "      <td>-2208920400</td>\n",
       "      <td>+++</td>\n",
       "      <td>1.005213</td>\n",
       "      <td>did_rain</td>\n",
       "      <td>True</td>\n",
       "      <td>++</td>\n",
       "      <td>0.471879</td>\n",
       "      <td>Scheduled Departure Time (Hour of Day)</td>\n",
       "      <td>19</td>\n",
       "      <td>++</td>\n",
       "      <td>0.331153</td>\n",
       "    </tr>\n",
       "    <tr>\n",
       "      <th>18392</th>\n",
       "      <td>1.0</td>\n",
       "      <td>0.516543</td>\n",
       "      <td>Scheduled Departure Time</td>\n",
       "      <td>-2.208920e+09</td>\n",
       "      <td>+++</td>\n",
       "      <td>1.176622</td>\n",
       "      <td>month</td>\n",
       "      <td>7</td>\n",
       "      <td>++</td>\n",
       "      <td>0.901168</td>\n",
       "      <td>day_of_week</td>\n",
       "      <td>Thurs</td>\n",
       "      <td>++</td>\n",
       "      <td>0.482601</td>\n",
       "      <td>Tail Number</td>\n",
       "      <td>N170US</td>\n",
       "      <td>++</td>\n",
       "      <td>0.460604</td>\n",
       "    </tr>\n",
       "    <tr>\n",
       "      <th>18406</th>\n",
       "      <td>1.0</td>\n",
       "      <td>0.573944</td>\n",
       "      <td>Scheduled Departure Time</td>\n",
       "      <td>-2.208927e+09</td>\n",
       "      <td>+++</td>\n",
       "      <td>1.612452</td>\n",
       "      <td>Tail Number</td>\n",
       "      <td>N818AW</td>\n",
       "      <td>++</td>\n",
       "      <td>1.129311</td>\n",
       "      <td>month</td>\n",
       "      <td>7</td>\n",
       "      <td>++</td>\n",
       "      <td>0.863199</td>\n",
       "      <td>Destination Airport</td>\n",
       "      <td>CLT</td>\n",
       "      <td>++</td>\n",
       "      <td>0.646996</td>\n",
       "    </tr>\n",
       "  </tbody>\n",
       "</table>\n",
       "<p>278 rows × 18 columns</p>\n",
       "</div>"
      ],
      "text/plain": [
       "       prediction  positive_probability          reason_0_feature  \\\n",
       "593           1.0              0.505323            daily_rainfall   \n",
       "599           1.0              0.551285            daily_rainfall   \n",
       "612           1.0              0.569199  Scheduled Departure Time   \n",
       "893           1.0              0.582619            daily_rainfall   \n",
       "894           1.0              0.637904            daily_rainfall   \n",
       "...           ...                   ...                       ...   \n",
       "18218         1.0              0.548005  Scheduled Departure Time   \n",
       "18222         1.0              0.501521  Scheduled Departure Time   \n",
       "18256         0.0              0.496702            daily_rainfall   \n",
       "18392         1.0              0.516543  Scheduled Departure Time   \n",
       "18406         1.0              0.573944  Scheduled Departure Time   \n",
       "\n",
       "       reason_0_feature_value reason_0_qualitative_strength  \\\n",
       "593              1.350000e+00                           +++   \n",
       "599              1.350000e+00                           +++   \n",
       "612             -2.208915e+09                           +++   \n",
       "893              2.500000e-01                           +++   \n",
       "894              2.500000e-01                           +++   \n",
       "...                       ...                           ...   \n",
       "18218           -2.208915e+09                           +++   \n",
       "18222           -2.208927e+09                           +++   \n",
       "18256            1.100000e-01                           +++   \n",
       "18392           -2.208920e+09                           +++   \n",
       "18406           -2.208927e+09                           +++   \n",
       "\n",
       "       reason_0_strength          reason_1_feature reason_1_feature_value  \\\n",
       "593             1.074490  Scheduled Departure Time            -2208920400   \n",
       "599             1.166670  Scheduled Departure Time            -2208918600   \n",
       "612             1.331459            daily_rainfall                   1.35   \n",
       "893             1.917284  Scheduled Departure Time            -2208925800   \n",
       "894             1.960371  Scheduled Departure Time            -2208918600   \n",
       "...                  ...                       ...                    ...   \n",
       "18218           1.166377            daily_rainfall                   0.11   \n",
       "18222           1.087912            daily_rainfall                   0.11   \n",
       "18256           1.091645  Scheduled Departure Time            -2208920400   \n",
       "18392           1.176622                     month                      7   \n",
       "18406           1.612452               Tail Number                 N818AW   \n",
       "\n",
       "      reason_1_qualitative_strength  reason_1_strength reason_2_feature  \\\n",
       "593                             +++           0.989334      day_of_week   \n",
       "599                             +++           1.102931         did_rain   \n",
       "612                             +++           1.259771      day_of_week   \n",
       "893                             +++           1.146913    Flight Number   \n",
       "894                             +++           1.402661         did_rain   \n",
       "...                             ...                ...              ...   \n",
       "18218                            ++           0.685493            month   \n",
       "18222                           +++           0.851496            month   \n",
       "18256                           +++           1.005213         did_rain   \n",
       "18392                            ++           0.901168      day_of_week   \n",
       "18406                            ++           1.129311            month   \n",
       "\n",
       "      reason_2_feature_value reason_2_qualitative_strength  reason_2_strength  \\\n",
       "593                    Thurs                            ++           0.663748   \n",
       "599                     True                            ++           0.498812   \n",
       "612                    Thurs                            ++           0.536583   \n",
       "893                      728                            ++           0.378521   \n",
       "894                     True                            ++           0.478608   \n",
       "...                      ...                           ...                ...   \n",
       "18218                      7                            ++           0.495122   \n",
       "18222                      7                            ++           0.437626   \n",
       "18256                   True                            ++           0.471879   \n",
       "18392                  Thurs                            ++           0.482601   \n",
       "18406                      7                            ++           0.863199   \n",
       "\n",
       "                             reason_3_feature reason_3_feature_value  \\\n",
       "593                             Flight Number                    561   \n",
       "599                               day_of_week                  Thurs   \n",
       "612    Scheduled Departure Time (Hour of Day)                     20   \n",
       "893                                  did_rain                   True   \n",
       "894                             Flight Number                    738   \n",
       "...                                       ...                    ...   \n",
       "18218  Scheduled Departure Time (Hour of Day)                     20   \n",
       "18222                     Destination Airport                    CLT   \n",
       "18256  Scheduled Departure Time (Hour of Day)                     19   \n",
       "18392                             Tail Number                 N170US   \n",
       "18406                     Destination Airport                    CLT   \n",
       "\n",
       "      reason_3_qualitative_strength  reason_3_strength  \n",
       "593                              --          -0.487189  \n",
       "599                              ++           0.413684  \n",
       "612                              ++           0.328074  \n",
       "893                              ++           0.367195  \n",
       "894                              ++           0.303017  \n",
       "...                             ...                ...  \n",
       "18218                            ++           0.407042  \n",
       "18222                            ++           0.417019  \n",
       "18256                            ++           0.331153  \n",
       "18392                            ++           0.460604  \n",
       "18406                            ++           0.646996  \n",
       "\n",
       "[278 rows x 18 columns]"
      ]
     },
     "execution_count": 14,
     "metadata": {},
     "output_type": "execute_result"
    }
   ],
   "source": [
    "import pandas as pd\n",
    "pd.options.display.max_rows = 10  # default display is too verbose\n",
    "\n",
    "# These rows are all redundant or of little value for this example\n",
    "reasons = all_rows.drop(['row_id', 'class_0_label', 'class_1_probability', 'class_1_label'],\n",
    "                        axis=1)\n",
    "reasons.drop([f\"reason_{i}_label\" for i in range(number_of_reasons)],\n",
    "             axis=1, inplace=True)\n",
    "\n",
    "# These are rows that didn't meet our thresholds\n",
    "reasons.dropna(inplace=True)\n",
    "\n",
    "# Rename columns to be more consistent with the terms we have been using\n",
    "reasons.rename(index=str, columns={\"class_0_probability\": \"positive_probability\"}, inplace=True)\n",
    "reasons"
   ]
  },
  {
   "cell_type": "markdown",
   "metadata": {},
   "source": [
    "## Explore Reason Code results\n",
    "Now let's see how often various features are showing up as the top reason for impacting the probability of a flight being delayed."
   ]
  },
  {
   "cell_type": "code",
   "execution_count": 15,
   "metadata": {},
   "outputs": [],
   "source": [
    "from functools import reduce\n",
    "\n",
    "# Create a combined histogram of all our reasons\n",
    "reasons_hist = reduce(lambda x, y: x.add(y, fill_value=0),\n",
    "                      (reasons[f\"reason_{i}_feature\"].value_counts()\n",
    "                       for i in range(number_of_reasons)))"
   ]
  },
  {
   "cell_type": "code",
   "execution_count": 16,
   "metadata": {},
   "outputs": [
    {
     "data": {
      "text/plain": [
       "Text(0.5,1,'Frequency of Features in Top 4 Reason(s)')"
      ]
     },
     "execution_count": 16,
     "metadata": {},
     "output_type": "execute_result"
    },
    {
     "data": {
      "image/png": "[encoded data removed]",
      "text/plain": [
       "<matplotlib.figure.Figure at 0x7f6d071209e8>"
      ]
     },
     "metadata": {},
     "output_type": "display_data"
    }
   ],
   "source": [
    "reasons_hist.plot.bar()\n",
    "plt.xticks(rotation=45, ha='right')\n",
    "plt.ylabel('Count')\n",
    "plt.title(f\"Frequency of Features in Top {number_of_reasons} Reason(s)\")"
   ]
  },
  {
   "cell_type": "markdown",
   "metadata": {},
   "source": [
    "Knowing the _feature impact_ for this model from the _Diving Deeper_ notebook, the high occurrence of the `daily_rainfall` and `Scheduled Departure Time` as reason codes is not entirely surprising because these were some of the top ranked features in the impact chart. Therefore, let's take a small detour investigating some of the rows that had less expected reasons."
   ]
  },
  {
   "cell_type": "markdown",
   "metadata": {},
   "source": [
    "---\n",
    "Below is some helper code. It can largely be ignored as it is mostly relevant for this exercise and not needed for a general understanding of the DataRobot APIs"
   ]
  },
  {
   "cell_type": "code",
   "execution_count": 17,
   "metadata": {},
   "outputs": [],
   "source": [
    "from operator import or_\n",
    "from functools import reduce\n",
    "from itertools import chain\n",
    "\n",
    "def find_rows_with_reason(df, feature_name, nreasons):\n",
    "    \"\"\"\n",
    "    Given a reason codes DataFrame, return a slice of that data where the\n",
    "    top N reasons match the given feature\n",
    "    \"\"\"\n",
    "    all_reason_columns = (df[f\"reason_{i}_feature\"] == feature_name \n",
    "                          for i in range(nreasons))\n",
    "    df_filter = reduce(or_, all_reason_columns)\n",
    "    return favorite_reason_columns(df[df_filter], nreasons)\n",
    "\n",
    "def favorite_reason_columns(df, nreasons):\n",
    "    \"\"\"\n",
    "    Only display the most useful rows of a reason codes DataFrame.\n",
    "    \"\"\"\n",
    "    # Use chain to flatten our list of tuples\n",
    "    columns = list(chain.from_iterable((f\"reason_{i}_feature\", \n",
    "                                        f\"reason_{i}_feature_value\", \n",
    "                                        f\"reason_{i}_strength\")\n",
    "                                       for i in range(nreasons)))\n",
    "    return df[columns]\n",
    "\n",
    "def find_feature_in_row(feature, row, nreasons):\n",
    "    \"\"\"\n",
    "    Return the value of a given feature\n",
    "    \"\"\"\n",
    "    for i in range(nreasons):\n",
    "        if row[f\"reason_{i}_feature\"] == feature:\n",
    "            return row[f\"reason_{i}_feature_value\"]\n",
    "    \n",
    "def collect_feature_values(df, feature, nreasons):\n",
    "    \"\"\"\n",
    "    Return a list of all values of a given reason code from a DataFrame\n",
    "    \"\"\"\n",
    "    return [find_feature_in_row(feature, row, nreasons)\n",
    "            for index, row in df.iterrows()]"
   ]
  },
  {
   "cell_type": "markdown",
   "metadata": {},
   "source": [
    "---\n",
    "\n",
    "### Investigation: Destination Airport\n",
    "It looks like there was a small number of rows where the `Destination Airport` was one of the top N reasons for a given prediction"
   ]
  },
  {
   "cell_type": "code",
   "execution_count": 18,
   "metadata": {},
   "outputs": [
    {
     "data": {
      "text/html": [
       "<div>\n",
       "<style scoped>\n",
       "    .dataframe tbody tr th:only-of-type {\n",
       "        vertical-align: middle;\n",
       "    }\n",
       "\n",
       "    .dataframe tbody tr th {\n",
       "        vertical-align: top;\n",
       "    }\n",
       "\n",
       "    .dataframe thead th {\n",
       "        text-align: right;\n",
       "    }\n",
       "</style>\n",
       "<table border=\"1\" class=\"dataframe\">\n",
       "  <thead>\n",
       "    <tr style=\"text-align: right;\">\n",
       "      <th></th>\n",
       "      <th>reason_0_feature</th>\n",
       "      <th>reason_0_feature_value</th>\n",
       "      <th>reason_0_strength</th>\n",
       "      <th>reason_1_feature</th>\n",
       "      <th>reason_1_feature_value</th>\n",
       "      <th>reason_1_strength</th>\n",
       "      <th>reason_2_feature</th>\n",
       "      <th>reason_2_feature_value</th>\n",
       "      <th>reason_2_strength</th>\n",
       "      <th>reason_3_feature</th>\n",
       "      <th>reason_3_feature_value</th>\n",
       "      <th>reason_3_strength</th>\n",
       "    </tr>\n",
       "  </thead>\n",
       "  <tbody>\n",
       "    <tr>\n",
       "      <th>961</th>\n",
       "      <td>Scheduled Departure Time</td>\n",
       "      <td>-2.208920e+09</td>\n",
       "      <td>1.153575</td>\n",
       "      <td>Flight Number</td>\n",
       "      <td>1788</td>\n",
       "      <td>0.616095</td>\n",
       "      <td>Destination Airport</td>\n",
       "      <td>CLT</td>\n",
       "      <td>0.523957</td>\n",
       "      <td>day_of_week</td>\n",
       "      <td>Thurs</td>\n",
       "      <td>0.446320</td>\n",
       "    </tr>\n",
       "    <tr>\n",
       "      <th>1504</th>\n",
       "      <td>Scheduled Departure Time</td>\n",
       "      <td>-2.208920e+09</td>\n",
       "      <td>1.261850</td>\n",
       "      <td>Destination Airport</td>\n",
       "      <td>CLT</td>\n",
       "      <td>0.688756</td>\n",
       "      <td>daily_rainfall</td>\n",
       "      <td>0.16</td>\n",
       "      <td>0.577694</td>\n",
       "      <td>day_of_week</td>\n",
       "      <td>Thurs</td>\n",
       "      <td>0.306210</td>\n",
       "    </tr>\n",
       "    <tr>\n",
       "      <th>2258</th>\n",
       "      <td>Scheduled Departure Time</td>\n",
       "      <td>-2.208927e+09</td>\n",
       "      <td>1.600522</td>\n",
       "      <td>daily_rainfall</td>\n",
       "      <td>0.63</td>\n",
       "      <td>1.179723</td>\n",
       "      <td>day_of_week</td>\n",
       "      <td>Thurs</td>\n",
       "      <td>0.432385</td>\n",
       "      <td>Destination Airport</td>\n",
       "      <td>CLT</td>\n",
       "      <td>0.423966</td>\n",
       "    </tr>\n",
       "    <tr>\n",
       "      <th>5879</th>\n",
       "      <td>daily_rainfall</td>\n",
       "      <td>2.000000e-01</td>\n",
       "      <td>2.369621</td>\n",
       "      <td>Scheduled Departure Time</td>\n",
       "      <td>-2208947400</td>\n",
       "      <td>0.550506</td>\n",
       "      <td>did_rain</td>\n",
       "      <td>True</td>\n",
       "      <td>0.534186</td>\n",
       "      <td>Destination Airport</td>\n",
       "      <td>PHL</td>\n",
       "      <td>0.237344</td>\n",
       "    </tr>\n",
       "    <tr>\n",
       "      <th>6368</th>\n",
       "      <td>Scheduled Departure Time</td>\n",
       "      <td>-2.208920e+09</td>\n",
       "      <td>1.531342</td>\n",
       "      <td>daily_rainfall</td>\n",
       "      <td>0.59</td>\n",
       "      <td>0.884156</td>\n",
       "      <td>Destination Airport</td>\n",
       "      <td>CLT</td>\n",
       "      <td>0.420807</td>\n",
       "      <td>Tail Number</td>\n",
       "      <td>N552UW</td>\n",
       "      <td>-0.364203</td>\n",
       "    </tr>\n",
       "    <tr>\n",
       "      <th>...</th>\n",
       "      <td>...</td>\n",
       "      <td>...</td>\n",
       "      <td>...</td>\n",
       "      <td>...</td>\n",
       "      <td>...</td>\n",
       "      <td>...</td>\n",
       "      <td>...</td>\n",
       "      <td>...</td>\n",
       "      <td>...</td>\n",
       "      <td>...</td>\n",
       "      <td>...</td>\n",
       "      <td>...</td>\n",
       "    </tr>\n",
       "    <tr>\n",
       "      <th>17638</th>\n",
       "      <td>Scheduled Departure Time</td>\n",
       "      <td>-2.208920e+09</td>\n",
       "      <td>1.171902</td>\n",
       "      <td>month</td>\n",
       "      <td>7</td>\n",
       "      <td>0.838242</td>\n",
       "      <td>day_of_week</td>\n",
       "      <td>Thurs</td>\n",
       "      <td>0.498123</td>\n",
       "      <td>Destination Airport</td>\n",
       "      <td>CLT</td>\n",
       "      <td>0.397920</td>\n",
       "    </tr>\n",
       "    <tr>\n",
       "      <th>18015</th>\n",
       "      <td>Scheduled Departure Time</td>\n",
       "      <td>-2.208920e+09</td>\n",
       "      <td>1.366706</td>\n",
       "      <td>month</td>\n",
       "      <td>7</td>\n",
       "      <td>0.908183</td>\n",
       "      <td>Destination Airport</td>\n",
       "      <td>CLT</td>\n",
       "      <td>0.570048</td>\n",
       "      <td>day_of_week</td>\n",
       "      <td>Thurs</td>\n",
       "      <td>0.467912</td>\n",
       "    </tr>\n",
       "    <tr>\n",
       "      <th>18208</th>\n",
       "      <td>Scheduled Departure Time</td>\n",
       "      <td>-2.208920e+09</td>\n",
       "      <td>1.313184</td>\n",
       "      <td>daily_rainfall</td>\n",
       "      <td>0.11</td>\n",
       "      <td>1.126847</td>\n",
       "      <td>month</td>\n",
       "      <td>7</td>\n",
       "      <td>0.426474</td>\n",
       "      <td>Destination Airport</td>\n",
       "      <td>CLT</td>\n",
       "      <td>0.408087</td>\n",
       "    </tr>\n",
       "    <tr>\n",
       "      <th>18222</th>\n",
       "      <td>Scheduled Departure Time</td>\n",
       "      <td>-2.208927e+09</td>\n",
       "      <td>1.087912</td>\n",
       "      <td>daily_rainfall</td>\n",
       "      <td>0.11</td>\n",
       "      <td>0.851496</td>\n",
       "      <td>month</td>\n",
       "      <td>7</td>\n",
       "      <td>0.437626</td>\n",
       "      <td>Destination Airport</td>\n",
       "      <td>CLT</td>\n",
       "      <td>0.417019</td>\n",
       "    </tr>\n",
       "    <tr>\n",
       "      <th>18406</th>\n",
       "      <td>Scheduled Departure Time</td>\n",
       "      <td>-2.208927e+09</td>\n",
       "      <td>1.612452</td>\n",
       "      <td>Tail Number</td>\n",
       "      <td>N818AW</td>\n",
       "      <td>1.129311</td>\n",
       "      <td>month</td>\n",
       "      <td>7</td>\n",
       "      <td>0.863199</td>\n",
       "      <td>Destination Airport</td>\n",
       "      <td>CLT</td>\n",
       "      <td>0.646996</td>\n",
       "    </tr>\n",
       "  </tbody>\n",
       "</table>\n",
       "<p>23 rows × 12 columns</p>\n",
       "</div>"
      ],
      "text/plain": [
       "               reason_0_feature  reason_0_feature_value  reason_0_strength  \\\n",
       "961    Scheduled Departure Time           -2.208920e+09           1.153575   \n",
       "1504   Scheduled Departure Time           -2.208920e+09           1.261850   \n",
       "2258   Scheduled Departure Time           -2.208927e+09           1.600522   \n",
       "5879             daily_rainfall            2.000000e-01           2.369621   \n",
       "6368   Scheduled Departure Time           -2.208920e+09           1.531342   \n",
       "...                         ...                     ...                ...   \n",
       "17638  Scheduled Departure Time           -2.208920e+09           1.171902   \n",
       "18015  Scheduled Departure Time           -2.208920e+09           1.366706   \n",
       "18208  Scheduled Departure Time           -2.208920e+09           1.313184   \n",
       "18222  Scheduled Departure Time           -2.208927e+09           1.087912   \n",
       "18406  Scheduled Departure Time           -2.208927e+09           1.612452   \n",
       "\n",
       "               reason_1_feature reason_1_feature_value  reason_1_strength  \\\n",
       "961               Flight Number                   1788           0.616095   \n",
       "1504        Destination Airport                    CLT           0.688756   \n",
       "2258             daily_rainfall                   0.63           1.179723   \n",
       "5879   Scheduled Departure Time            -2208947400           0.550506   \n",
       "6368             daily_rainfall                   0.59           0.884156   \n",
       "...                         ...                    ...                ...   \n",
       "17638                     month                      7           0.838242   \n",
       "18015                     month                      7           0.908183   \n",
       "18208            daily_rainfall                   0.11           1.126847   \n",
       "18222            daily_rainfall                   0.11           0.851496   \n",
       "18406               Tail Number                 N818AW           1.129311   \n",
       "\n",
       "          reason_2_feature reason_2_feature_value  reason_2_strength  \\\n",
       "961    Destination Airport                    CLT           0.523957   \n",
       "1504        daily_rainfall                   0.16           0.577694   \n",
       "2258           day_of_week                  Thurs           0.432385   \n",
       "5879              did_rain                   True           0.534186   \n",
       "6368   Destination Airport                    CLT           0.420807   \n",
       "...                    ...                    ...                ...   \n",
       "17638          day_of_week                  Thurs           0.498123   \n",
       "18015  Destination Airport                    CLT           0.570048   \n",
       "18208                month                      7           0.426474   \n",
       "18222                month                      7           0.437626   \n",
       "18406                month                      7           0.863199   \n",
       "\n",
       "          reason_3_feature reason_3_feature_value  reason_3_strength  \n",
       "961            day_of_week                  Thurs           0.446320  \n",
       "1504           day_of_week                  Thurs           0.306210  \n",
       "2258   Destination Airport                    CLT           0.423966  \n",
       "5879   Destination Airport                    PHL           0.237344  \n",
       "6368           Tail Number                 N552UW          -0.364203  \n",
       "...                    ...                    ...                ...  \n",
       "17638  Destination Airport                    CLT           0.397920  \n",
       "18015          day_of_week                  Thurs           0.467912  \n",
       "18208  Destination Airport                    CLT           0.408087  \n",
       "18222  Destination Airport                    CLT           0.417019  \n",
       "18406  Destination Airport                    CLT           0.646996  \n",
       "\n",
       "[23 rows x 12 columns]"
      ]
     },
     "execution_count": 18,
     "metadata": {},
     "output_type": "execute_result"
    }
   ],
   "source": [
    "feature_name = 'Destination Airport'\n",
    "flight_nums = find_rows_with_reason(reasons, feature_name, number_of_reasons)\n",
    "flight_nums"
   ]
  },
  {
   "cell_type": "code",
   "execution_count": 19,
   "metadata": {},
   "outputs": [
    {
     "data": {
      "text/plain": [
       "Text(0.5,1,'Histogram of \"Destination Airport\" Values')"
      ]
     },
     "execution_count": 19,
     "metadata": {},
     "output_type": "execute_result"
    },
    {
     "data": {
      "image/png": "[encoded data removed]",
      "text/plain": [
       "<matplotlib.figure.Figure at 0x7f6d065c6cf8>"
      ]
     },
     "metadata": {},
     "output_type": "display_data"
    }
   ],
   "source": [
    "all_flights = collect_feature_values(flight_nums, feature_name, number_of_reasons)\n",
    "pd.DataFrame(all_flights)[0].value_counts().plot.bar()\n",
    "plt.xticks(rotation=0)\n",
    "plt.ylabel('Count')\n",
    "plt.title('Histogram of \"Destination Airport\" Values')"
   ]
  },
  {
   "cell_type": "markdown",
   "metadata": {},
   "source": [
    "Many a frequent flier will tell you horror stories about flying in and out of certain airports. While any given reason code can have a positive **or** a negative impact to a prediction (this is indicated by both the _strength_ and _qualitative&#95;strength_ columns), due to the thresholds we configured earlier for this tutorial it is likely that the above airports are causing flight delays."
   ]
  },
  {
   "cell_type": "markdown",
   "metadata": {},
   "source": [
    "---\n",
    "\n",
    "### Investigation: Scheduled Departure Time\n",
    "DataRobot correctly identified the `Scheduled Departure Time` input as a timestamp but in the reason code output, we are seeing the internal representation of the time value as a _Unix epoch_ value so let's put it back into a format that humans can understand better:"
   ]
  },
  {
   "cell_type": "code",
   "execution_count": 20,
   "metadata": {},
   "outputs": [
    {
     "data": {
      "text/plain": [
       "612     1900-01-01 20:30:00\n",
       "901     1900-01-01 19:10:00\n",
       "961     1900-01-01 19:10:00\n",
       "1021    1900-01-01 19:10:00\n",
       "1323    1900-01-01 19:10:00\n",
       "                ...        \n",
       "18212   1900-01-01 19:30:00\n",
       "18218   1900-01-01 20:30:00\n",
       "18222   1900-01-01 17:05:00\n",
       "18392   1900-01-01 19:10:00\n",
       "18406   1900-01-01 17:05:00\n",
       "Name: reason_0_feature_value, Length: 115, dtype: datetime64[ns]"
      ]
     },
     "execution_count": 20,
     "metadata": {},
     "output_type": "execute_result"
    }
   ],
   "source": [
    "# For simplicity, let's just look at rows where `Scheduled Departure Time`\n",
    "# was the first/top reason.\n",
    "bad_times = reasons[reasons.reason_0_feature == 'Scheduled Departure Time']\n",
    "\n",
    "# Now let's convert the epoch to a datetime\n",
    "pd.to_datetime(bad_times.reason_0_feature_value, unit='s')"
   ]
  },
  {
   "cell_type": "markdown",
   "metadata": {
    "collapsed": true
   },
   "source": [
    "We can see that it appears as though all departures occurred on Jan. 1st, 1900. This is because the original value was simply a _timestamp_ so only the **time portion** of the epoch is meaningful. We will clean this up in our graph below:"
   ]
  },
  {
   "cell_type": "code",
   "execution_count": 21,
   "metadata": {},
   "outputs": [
    {
     "data": {
      "text/plain": [
       "Text(0.5,1,'Relationship of Depart Time and being delayed')"
      ]
     },
     "execution_count": 21,
     "metadata": {},
     "output_type": "execute_result"
    },
    {
     "data": {
      "image/png": "[encoded data removed]",
      "text/plain": [
       "<matplotlib.figure.Figure at 0x7f6d0692bba8>"
      ]
     },
     "metadata": {},
     "output_type": "display_data"
    }
   ],
   "source": [
    "from matplotlib.ticker import FuncFormatter\n",
    "from time import gmtime, strftime\n",
    "\n",
    "scale_factor = 9  # make the difference in strengths more visible\n",
    "\n",
    "depart = reasons[reasons.reason_0_feature == 'Scheduled Departure Time']\n",
    "true_only = depart[depart.prediction == True]\n",
    "false_only = depart[depart.prediction == False]\n",
    "plt.scatter(x=true_only.reason_0_feature_value,\n",
    "            y=true_only.positive_probability, \n",
    "            c='green',\n",
    "            s=true_only.reason_0_strength ** scale_factor,\n",
    "            label='Will be delayed')\n",
    "plt.scatter(x=false_only.reason_0_feature_value,\n",
    "            y=false_only.positive_probability, \n",
    "            c='purple',\n",
    "            s=false_only.reason_0_strength ** scale_factor,\n",
    "            label='Will not')\n",
    "\n",
    "# Convert the Epoch values into human time stamps\n",
    "formatter = FuncFormatter(lambda x, pos: strftime('%H:%M', gmtime(x)))\n",
    "plt.gca().xaxis.set_major_formatter(formatter)\n",
    "\n",
    "plt.xlabel('Scheduled Departure Time')\n",
    "plt.ylabel('Positive Probability')\n",
    "plt.legend(markerscale=.5, frameon=True, facecolor=\"white\")\n",
    "plt.title(\"Relationship of Depart Time and being delayed\")"
   ]
  },
  {
   "cell_type": "markdown",
   "metadata": {},
   "source": [
    "The above plot shows each prediction where the top influencer of the prediction was the `Scheduled Departure Time`. It's plotted against the `positive_probability` on the Y-axis and the size of the plots represent the strength that departure time had on the prediction (relative to the other features of that given data point). Finally to aid visually, the positive vs. negative outcomes are colored.\n",
    "\n",
    "As we can see by the time-scale on the X-axis, it doesn't represent the full 24 hours. This is telling. Since we filtered our data earlier to only show predictions that were leaning towards being delayed, and this chart is leaning towards times in the afternoon and evening there may be a correlation between later scheduled departure time and a higher probability of being delayed. With a little bit of domain knowledge, one will understand that an airplane and its crew make many flights in a day (typically hopping between cities) so small delays in the morning compound into the evening hours."
   ]
  },
  {
   "cell_type": "markdown",
   "metadata": {},
   "source": [
    "---\n",
    "## Conclusion\n",
    "Reason Codes are very useful on a per-prediction row to help give insights into why the model provided the given prediction. Also, as we saw in this tutorial, with some domain knowledge and creativity you can use aggregations of codes to find even deeper insights about your business! \n",
    "\n",
    "For more information about Reason Codes, consult the DataRobot documentation linked from the web UI or for specifics relating to the Python API, there is a `Reason Codes` section in the [official documentation](https://datarobot-public-api-client.readthedocs-hosted.com)."
   ]
  }
 ],
 "metadata": {
  "kernelspec": {
   "display_name": "conda_python3",
   "language": "python",
   "name": "conda_python3"
  },
  "language_info": {
   "codemirror_mode": {
    "name": "ipython",
    "version": 3
   },
   "file_extension": ".py",
   "mimetype": "text/x-python",
   "name": "python",
   "nbconvert_exporter": "python",
   "pygments_lexer": "ipython3",
   "version": "3.6.4"
  }
 },
 "nbformat": 4,
 "nbformat_minor": 2
}
